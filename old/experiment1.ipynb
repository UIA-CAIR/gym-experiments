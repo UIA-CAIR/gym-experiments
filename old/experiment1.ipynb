{
 "cells": [
  {
   "cell_type": "code",
   "execution_count": 3,
   "metadata": {
    "collapsed": true
   },
   "outputs": [],
   "source": [
    "from msc.dqn.agent import Agent\n",
    "from msc.gan import GAN\n",
    "import numpy as np\n",
    "import gym\n",
    "import gym_deeplinewars"
   ]
  },
  {
   "cell_type": "code",
   "execution_count": 4,
   "metadata": {},
   "outputs": [],
   "source": [
    "env = gym.make('deeplinewars-stochastic-11x11-v0')\n",
    "env.set_representation(\"raw_enemy\")"
   ]
  },
  {
   "cell_type": "code",
   "execution_count": 3,
   "metadata": {},
   "outputs": [],
   "source": [
    "model = cnnrnn.model(env.observation_space[1:], env.action_space, 1e-4)\n",
    "agent = Agent(\n",
    "    env.observation_space,\n",
    "    env.action_space,\n",
    "    lr=1e-4,\n",
    "    memory_size=100000,\n",
    "    e_start=1.0,\n",
    "    e_end=0.0,\n",
    "    e_steps=1000000,\n",
    "    batch_size=16,\n",
    "    discount=0.99,\n",
    "    model=model\n",
    ")"
   ]
  },
  {
   "cell_type": "code",
   "execution_count": null,
   "metadata": {},
   "outputs": [],
   "source": []
  }
 ],
 "metadata": {
  "kernelspec": {
   "display_name": "Python 2",
   "language": "python",
   "name": "python2"
  },
  "language_info": {
   "codemirror_mode": {
    "name": "ipython",
    "version": 2
   },
   "file_extension": ".py",
   "mimetype": "text/x-python",
   "name": "python",
   "nbconvert_exporter": "python",
   "pygments_lexer": "ipython2",
   "version": "2.7.6"
  }
 },
 "nbformat": 4,
 "nbformat_minor": 0
}
